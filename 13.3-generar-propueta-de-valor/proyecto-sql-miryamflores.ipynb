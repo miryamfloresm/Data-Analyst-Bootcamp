{
 "cells": [
  {
   "cell_type": "markdown",
   "id": "5c1ed635-68ca-494e-a558-0b5012b361f6",
   "metadata": {},
   "source": [
    "# Proyecto SQL"
   ]
  },
  {
   "cell_type": "markdown",
   "id": "7c7298c7",
   "metadata": {},
   "source": [
    "## Tabla de Contenido<a id='back'></a>"
   ]
  },
  {
   "cell_type": "markdown",
   "id": "68ea9def",
   "metadata": {},
   "source": [
    "1. [Importando librerías](#step1)\n",
    "2. [Descripción del problema](#step2)\n",
    "3. [Objetivo del problema](#step3)\n",
    "4. [Instrucciones para completar el proyecto](#step4) \n",
    "5. [Descripción general de los datos](#step5) \n",
    "6. [Descripción de los datos](#step6) \n",
    "7. [Diagrama de datos](#step7)\n",
    "8. [Conectar con la base de datos](#step8)\n",
    "9. [Estudia las tablas](#step9) \n",
    "10. [Consulta SQL para cada una de las tareas](#step10)\n",
    "11. [Conclusiones](#step11)"
   ]
  },
  {
   "cell_type": "markdown",
   "id": "dc93cde8-d640-49eb-94d5-dc161eac5691",
   "metadata": {},
   "source": [
    "## Importando librerías<a name='step1'></a>"
   ]
  },
  {
   "cell_type": "code",
   "execution_count": 1,
   "id": "2ea1400f-f1d5-44c4-8378-8d73369f64c3",
   "metadata": {},
   "outputs": [],
   "source": [
    "#Librerías DA\n",
    "import pandas as pd\n",
    "\n",
    "# SQL\n",
    "from sqlalchemy import create_engine\n",
    "\n",
    "#Libreria HTML\n",
    "from IPython.display import Image\n",
    "from IPython.display import display, HTML"
   ]
  },
  {
   "cell_type": "markdown",
   "id": "d505e3ba-8b70-484a-9843-a79638430fba",
   "metadata": {},
   "source": [
    "## Descripción del problema<a name='step2'></a>"
   ]
  },
  {
   "cell_type": "markdown",
   "id": "3cd84245-5704-4029-bbf0-19beafcdb949",
   "metadata": {},
   "source": [
    "El coronavirus tomó al mundo entero por sorpresa, cambiando la rutina diaria de todos y todas. Los habitantes de las ciudades ya no pasaban su tiempo libre fuera, yendo a cafés y centros comerciales; sino que más gente se quedaba en casa, leyendo libros. Eso atrajo la atención de las startups (empresas emergentes) que se apresuraron a desarrollar nuevas aplicaciones para los amantes de los libros.\n",
    "\n",
    "Te han dado una base de datos de uno de los servicios que compiten en este mercado. Contiene datos sobre libros, editoriales, autores y calificaciones de clientes y reseñas de libros. Esta información se utilizará para generar una propuesta de valor para un nuevo producto."
   ]
  },
  {
   "cell_type": "markdown",
   "id": "b3abef9a-1a74-4700-9594-dd20678e65c3",
   "metadata": {},
   "source": [
    "## Objetivo del problema<a name='step3'></a>"
   ]
  },
  {
   "cell_type": "markdown",
   "id": "3b54dac7-a9dd-4d89-9f35-56761e5ba040",
   "metadata": {},
   "source": [
    "Generar una propuesta de valor para un nuevo producto con base a los datos proporcionados datasets de libros, editoriales, autores, calificaciones y reseñas de libros de clientes. Entonces se trata de la declaración que destaca los beneficios clave que la empresa proporciona a sus clientes, diferenciándose claramente de la competencia.\n",
    "\n",
    "\n",
    "***Lo que vas a investigar (objetivos secundarios):***\n",
    "\n",
    "- Encuentra el número de libros publicados después del 1 de enero de 2000.\n",
    "- Encuentra el número de reseñas de usuarios y la calificación promedio para cada libro.\n",
    "- Identifica la editorial que ha publicado el mayor número de libros con más de 50 páginas (esto te ayudará a excluir folletos y publicaciones similares de tu análisis).\n",
    "- Identifica al autor que tiene la más alta calificación promedio del libro: mira solo los libros con al menos 50 calificaciones.\n",
    "- Encuentra el número promedio de reseñas de texto entre los usuarios que calificaron más de 50 librsition.asp"
   ]
  },
  {
   "cell_type": "markdown",
   "id": "d06714e8-ac51-47cb-b8f5-9a74f8794cec",
   "metadata": {},
   "source": [
    "## Instrucciones para completar el proyecto<a name='step4'></a>"
   ]
  },
  {
   "cell_type": "markdown",
   "id": "6614abce-9a8f-4429-8bae-1943c5afc89e",
   "metadata": {},
   "source": [
    "\n",
    "\n",
    "- Estudia las tablas (imprime las primeras filas).\n",
    "- Realiza una consulta SQL para cada una de las tareas.\n",
    "- Genera los resultados de cada consulta en el Notebook.\n",
    "- Describe tus conclusiones para cada una de las tareas"
   ]
  },
  {
   "cell_type": "markdown",
   "id": "223b5565-3240-4ba9-a77e-fb56caaec398",
   "metadata": {},
   "source": [
    "## Descripción general de los datos<a name='step5'></a>\n",
    "***Lo que nos dieron***\n",
    "\n",
    "Contamos con cinco base de datos:\n",
    "- Tabla de libros\n",
    "- Tabla de autores\n",
    "- Tabla de editorial\n",
    "- Tabla de rating (calificaciones de usuarios)\n",
    "- Tabla de las reseñas de los libros"
   ]
  },
  {
   "cell_type": "markdown",
   "id": "f2d84e31-7f92-4551-9f6e-de191b59927d",
   "metadata": {},
   "source": [
    "## Descripción de los datos<a name='step6'></a>"
   ]
  },
  {
   "cell_type": "markdown",
   "id": "89e95cd2-4624-4df8-bc8f-9b6ba5aeb3a7",
   "metadata": {},
   "source": [
    "`**books**`\n",
    "\n",
    "Contiene datos sobre libros:\n",
    "\n",
    "- `book_id`: identificación del libro\n",
    "- `author_id`: identificación del autor o autora\n",
    "- `title`: título\n",
    "- `num_pages`: número de páginas\n",
    "- `publication_date`: fecha de la publicación\n",
    "- `publisher_id`: identificación de la editorial\n",
    "\n",
    "`**authors**`\n",
    "\n",
    "Contiene datos sobre autores:\n",
    "\n",
    "- `author_id`: identificación del autor o autora\n",
    "- `author`: el autor o la autora\n",
    "\n",
    "`**publishers**`\n",
    "\n",
    "Contiene datos sobre editoriales:\n",
    "\n",
    "- `publisher_id`: identificación de la editorial\n",
    "- `publisher`: la editorial\n",
    "\n",
    "`**ratings**`\n",
    "\n",
    "Contiene datos sobre las calificaciones de usuarios:\n",
    "\n",
    "- `rating_id`: identificación de la calificación\n",
    "- `book_id`: identificación del libro\n",
    "- `username`: el nombre del usuario que revisó el libro\n",
    "- `rating`: calificación\n",
    "\n",
    "`**reviews**`\n",
    "\n",
    "Contiene datos sobre las reseñas de los y las clientes:\n",
    "\n",
    "- `review_id`: identificación de la reseña\n",
    "- `book_id`: identificación del libro\n",
    "- `username`: el nombre del usuario que revisó el libro\n",
    "- `text`: el texto de la reseña"
   ]
  },
  {
   "cell_type": "markdown",
   "id": "1f058bac-a444-4ee6-b6f2-7759e73e1042",
   "metadata": {},
   "source": [
    "## Diagrama de datos<a name='step7'></a>"
   ]
  },
  {
   "cell_type": "code",
   "execution_count": 2,
   "id": "8651fae9-9e72-4ae5-8962-73d2a3cce84c",
   "metadata": {},
   "outputs": [
    {
     "data": {
      "text/html": [
       "<img src=\"https://miryamflores.com/sprint/diagramasql.png\"/>"
      ],
      "text/plain": [
       "<IPython.core.display.Image object>"
      ]
     },
     "execution_count": 2,
     "metadata": {},
     "output_type": "execute_result"
    }
   ],
   "source": [
    "Image(url=\"https://miryamflores.com/sprint/diagramasql.png\")"
   ]
  },
  {
   "cell_type": "markdown",
   "id": "6a70728c",
   "metadata": {},
   "source": [
    "[Volver al Índice](#back)"
   ]
  },
  {
   "cell_type": "markdown",
   "id": "6619df95-eaa9-4d79-bd22-d7456522f505",
   "metadata": {},
   "source": [
    "# Conectar con la base de datos<a name='step8'></a>"
   ]
  },
  {
   "cell_type": "code",
   "execution_count": 4,
   "id": "3a40a07b-c9de-4026-9f62-c5f340ec9f59",
   "metadata": {},
   "outputs": [],
   "source": [
    "# Crear conexión con la base de datos\n",
    "db_config = {'user': 'practicum_student',         # nombre de usuario\n",
    "             'pwd': 's65BlTKV3faNIGhmvJVzOqhs', # contraseña\n",
    "             'host': 'rc1b-wcoijxj3yxfsf3fs.mdb.yandexcloud.net',\n",
    "             'port': 6432,              # puerto de conexión\n",
    "             'db': 'data-analyst-final-project-db'}          # nombre de la base de datos\n",
    "\n",
    "connection_string = 'postgresql://{}:{}@{}:{}/{}'.format(db_config['user'],\n",
    "                                                                     db_config['pwd'],\n",
    "                                                                       db_config['host'],\n",
    "                                                                       db_config['port'],\n",
    "                                                                       db_config['db'])\n",
    "\n",
    "engine = create_engine(connection_string, connect_args={'sslmode':'require'})"
   ]
  },
  {
   "cell_type": "markdown",
   "id": "1b1d32e9",
   "metadata": {},
   "source": [
    "## Estudiar las tablas<a name='step9'></a>"
   ]
  },
  {
   "cell_type": "markdown",
   "id": "c5e07fae",
   "metadata": {},
   "source": [
    "Primero creamos una función para ejecutar la consulta e imprimir las primeras filas de las bases de datos que nos proporcionaron."
   ]
  },
  {
   "cell_type": "code",
   "execution_count": 5,
   "id": "d7150c23-0df9-497e-b698-b14104a56681",
   "metadata": {},
   "outputs": [],
   "source": [
    "# Creamos una función que ejecute consultas e imprima las primeras filas\n",
    "def sql_print_data(database):\n",
    "    query = '''SELECT * FROM {}'''.format(database)\n",
    "    results = pd.io.sql.read_sql(query, con = engine)\n",
    "    return results.head()"
   ]
  },
  {
   "cell_type": "markdown",
   "id": "ce28a4f5",
   "metadata": {},
   "source": [
    "Empezamos a ver la base de datos de `books`:"
   ]
  },
  {
   "cell_type": "code",
   "execution_count": 6,
   "id": "efbd5dc0-440e-4d1f-ad3a-01f985627382",
   "metadata": {},
   "outputs": [
    {
     "data": {
      "text/html": [
       "<div>\n",
       "<style scoped>\n",
       "    .dataframe tbody tr th:only-of-type {\n",
       "        vertical-align: middle;\n",
       "    }\n",
       "\n",
       "    .dataframe tbody tr th {\n",
       "        vertical-align: top;\n",
       "    }\n",
       "\n",
       "    .dataframe thead th {\n",
       "        text-align: right;\n",
       "    }\n",
       "</style>\n",
       "<table border=\"1\" class=\"dataframe\">\n",
       "  <thead>\n",
       "    <tr style=\"text-align: right;\">\n",
       "      <th></th>\n",
       "      <th>book_id</th>\n",
       "      <th>author_id</th>\n",
       "      <th>title</th>\n",
       "      <th>num_pages</th>\n",
       "      <th>publication_date</th>\n",
       "      <th>publisher_id</th>\n",
       "    </tr>\n",
       "  </thead>\n",
       "  <tbody>\n",
       "    <tr>\n",
       "      <th>0</th>\n",
       "      <td>1</td>\n",
       "      <td>546</td>\n",
       "      <td>'Salem's Lot</td>\n",
       "      <td>594</td>\n",
       "      <td>2005-11-01</td>\n",
       "      <td>93</td>\n",
       "    </tr>\n",
       "    <tr>\n",
       "      <th>1</th>\n",
       "      <td>2</td>\n",
       "      <td>465</td>\n",
       "      <td>1 000 Places to See Before You Die</td>\n",
       "      <td>992</td>\n",
       "      <td>2003-05-22</td>\n",
       "      <td>336</td>\n",
       "    </tr>\n",
       "    <tr>\n",
       "      <th>2</th>\n",
       "      <td>3</td>\n",
       "      <td>407</td>\n",
       "      <td>13 Little Blue Envelopes (Little Blue Envelope...</td>\n",
       "      <td>322</td>\n",
       "      <td>2010-12-21</td>\n",
       "      <td>135</td>\n",
       "    </tr>\n",
       "    <tr>\n",
       "      <th>3</th>\n",
       "      <td>4</td>\n",
       "      <td>82</td>\n",
       "      <td>1491: New Revelations of the Americas Before C...</td>\n",
       "      <td>541</td>\n",
       "      <td>2006-10-10</td>\n",
       "      <td>309</td>\n",
       "    </tr>\n",
       "    <tr>\n",
       "      <th>4</th>\n",
       "      <td>5</td>\n",
       "      <td>125</td>\n",
       "      <td>1776</td>\n",
       "      <td>386</td>\n",
       "      <td>2006-07-04</td>\n",
       "      <td>268</td>\n",
       "    </tr>\n",
       "  </tbody>\n",
       "</table>\n",
       "</div>"
      ],
      "text/plain": [
       "   book_id  author_id                                              title  \\\n",
       "0        1        546                                       'Salem's Lot   \n",
       "1        2        465                 1 000 Places to See Before You Die   \n",
       "2        3        407  13 Little Blue Envelopes (Little Blue Envelope...   \n",
       "3        4         82  1491: New Revelations of the Americas Before C...   \n",
       "4        5        125                                               1776   \n",
       "\n",
       "   num_pages publication_date  publisher_id  \n",
       "0        594       2005-11-01            93  \n",
       "1        992       2003-05-22           336  \n",
       "2        322       2010-12-21           135  \n",
       "3        541       2006-10-10           309  \n",
       "4        386       2006-07-04           268  "
      ]
     },
     "execution_count": 6,
     "metadata": {},
     "output_type": "execute_result"
    }
   ],
   "source": [
    "books_data = sql_print_data('books')\n",
    "books_data"
   ]
  },
  {
   "cell_type": "markdown",
   "id": "f927a623",
   "metadata": {},
   "source": [
    "Vemos la segunda base de datos `authors` de todos los autores: "
   ]
  },
  {
   "cell_type": "code",
   "execution_count": 7,
   "id": "40fd1332",
   "metadata": {},
   "outputs": [
    {
     "data": {
      "text/html": [
       "<div>\n",
       "<style scoped>\n",
       "    .dataframe tbody tr th:only-of-type {\n",
       "        vertical-align: middle;\n",
       "    }\n",
       "\n",
       "    .dataframe tbody tr th {\n",
       "        vertical-align: top;\n",
       "    }\n",
       "\n",
       "    .dataframe thead th {\n",
       "        text-align: right;\n",
       "    }\n",
       "</style>\n",
       "<table border=\"1\" class=\"dataframe\">\n",
       "  <thead>\n",
       "    <tr style=\"text-align: right;\">\n",
       "      <th></th>\n",
       "      <th>author_id</th>\n",
       "      <th>author</th>\n",
       "    </tr>\n",
       "  </thead>\n",
       "  <tbody>\n",
       "    <tr>\n",
       "      <th>0</th>\n",
       "      <td>1</td>\n",
       "      <td>A.S. Byatt</td>\n",
       "    </tr>\n",
       "    <tr>\n",
       "      <th>1</th>\n",
       "      <td>2</td>\n",
       "      <td>Aesop/Laura Harris/Laura Gibbs</td>\n",
       "    </tr>\n",
       "    <tr>\n",
       "      <th>2</th>\n",
       "      <td>3</td>\n",
       "      <td>Agatha Christie</td>\n",
       "    </tr>\n",
       "    <tr>\n",
       "      <th>3</th>\n",
       "      <td>4</td>\n",
       "      <td>Alan Brennert</td>\n",
       "    </tr>\n",
       "    <tr>\n",
       "      <th>4</th>\n",
       "      <td>5</td>\n",
       "      <td>Alan Moore/David   Lloyd</td>\n",
       "    </tr>\n",
       "  </tbody>\n",
       "</table>\n",
       "</div>"
      ],
      "text/plain": [
       "   author_id                          author\n",
       "0          1                      A.S. Byatt\n",
       "1          2  Aesop/Laura Harris/Laura Gibbs\n",
       "2          3                 Agatha Christie\n",
       "3          4                   Alan Brennert\n",
       "4          5        Alan Moore/David   Lloyd"
      ]
     },
     "execution_count": 7,
     "metadata": {},
     "output_type": "execute_result"
    }
   ],
   "source": [
    "authors_data = sql_print_data('authors')\n",
    "authors_data"
   ]
  },
  {
   "cell_type": "markdown",
   "id": "98ae2b35",
   "metadata": {},
   "source": [
    "Vemos la tercera base de datos `publishers` que es:"
   ]
  },
  {
   "cell_type": "code",
   "execution_count": 8,
   "id": "13ff0b1b",
   "metadata": {},
   "outputs": [
    {
     "data": {
      "text/html": [
       "<div>\n",
       "<style scoped>\n",
       "    .dataframe tbody tr th:only-of-type {\n",
       "        vertical-align: middle;\n",
       "    }\n",
       "\n",
       "    .dataframe tbody tr th {\n",
       "        vertical-align: top;\n",
       "    }\n",
       "\n",
       "    .dataframe thead th {\n",
       "        text-align: right;\n",
       "    }\n",
       "</style>\n",
       "<table border=\"1\" class=\"dataframe\">\n",
       "  <thead>\n",
       "    <tr style=\"text-align: right;\">\n",
       "      <th></th>\n",
       "      <th>publisher_id</th>\n",
       "      <th>publisher</th>\n",
       "    </tr>\n",
       "  </thead>\n",
       "  <tbody>\n",
       "    <tr>\n",
       "      <th>0</th>\n",
       "      <td>1</td>\n",
       "      <td>Ace</td>\n",
       "    </tr>\n",
       "    <tr>\n",
       "      <th>1</th>\n",
       "      <td>2</td>\n",
       "      <td>Ace Book</td>\n",
       "    </tr>\n",
       "    <tr>\n",
       "      <th>2</th>\n",
       "      <td>3</td>\n",
       "      <td>Ace Books</td>\n",
       "    </tr>\n",
       "    <tr>\n",
       "      <th>3</th>\n",
       "      <td>4</td>\n",
       "      <td>Ace Hardcover</td>\n",
       "    </tr>\n",
       "    <tr>\n",
       "      <th>4</th>\n",
       "      <td>5</td>\n",
       "      <td>Addison Wesley Publishing Company</td>\n",
       "    </tr>\n",
       "  </tbody>\n",
       "</table>\n",
       "</div>"
      ],
      "text/plain": [
       "   publisher_id                          publisher\n",
       "0             1                                Ace\n",
       "1             2                           Ace Book\n",
       "2             3                          Ace Books\n",
       "3             4                      Ace Hardcover\n",
       "4             5  Addison Wesley Publishing Company"
      ]
     },
     "execution_count": 8,
     "metadata": {},
     "output_type": "execute_result"
    }
   ],
   "source": [
    "publishers_data = sql_print_data('publishers')\n",
    "publishers_data"
   ]
  },
  {
   "cell_type": "markdown",
   "id": "708ace07",
   "metadata": {},
   "source": [
    "Vemos la cuarta base de datos `ratings`que contiene las calificaciones de los libros, es:"
   ]
  },
  {
   "cell_type": "code",
   "execution_count": 9,
   "id": "bfb8041f",
   "metadata": {},
   "outputs": [
    {
     "data": {
      "text/html": [
       "<div>\n",
       "<style scoped>\n",
       "    .dataframe tbody tr th:only-of-type {\n",
       "        vertical-align: middle;\n",
       "    }\n",
       "\n",
       "    .dataframe tbody tr th {\n",
       "        vertical-align: top;\n",
       "    }\n",
       "\n",
       "    .dataframe thead th {\n",
       "        text-align: right;\n",
       "    }\n",
       "</style>\n",
       "<table border=\"1\" class=\"dataframe\">\n",
       "  <thead>\n",
       "    <tr style=\"text-align: right;\">\n",
       "      <th></th>\n",
       "      <th>rating_id</th>\n",
       "      <th>book_id</th>\n",
       "      <th>username</th>\n",
       "      <th>rating</th>\n",
       "    </tr>\n",
       "  </thead>\n",
       "  <tbody>\n",
       "    <tr>\n",
       "      <th>0</th>\n",
       "      <td>1</td>\n",
       "      <td>1</td>\n",
       "      <td>ryanfranco</td>\n",
       "      <td>4</td>\n",
       "    </tr>\n",
       "    <tr>\n",
       "      <th>1</th>\n",
       "      <td>2</td>\n",
       "      <td>1</td>\n",
       "      <td>grantpatricia</td>\n",
       "      <td>2</td>\n",
       "    </tr>\n",
       "    <tr>\n",
       "      <th>2</th>\n",
       "      <td>3</td>\n",
       "      <td>1</td>\n",
       "      <td>brandtandrea</td>\n",
       "      <td>5</td>\n",
       "    </tr>\n",
       "    <tr>\n",
       "      <th>3</th>\n",
       "      <td>4</td>\n",
       "      <td>2</td>\n",
       "      <td>lorichen</td>\n",
       "      <td>3</td>\n",
       "    </tr>\n",
       "    <tr>\n",
       "      <th>4</th>\n",
       "      <td>5</td>\n",
       "      <td>2</td>\n",
       "      <td>mariokeller</td>\n",
       "      <td>2</td>\n",
       "    </tr>\n",
       "  </tbody>\n",
       "</table>\n",
       "</div>"
      ],
      "text/plain": [
       "   rating_id  book_id       username  rating\n",
       "0          1        1     ryanfranco       4\n",
       "1          2        1  grantpatricia       2\n",
       "2          3        1   brandtandrea       5\n",
       "3          4        2       lorichen       3\n",
       "4          5        2    mariokeller       2"
      ]
     },
     "execution_count": 9,
     "metadata": {},
     "output_type": "execute_result"
    }
   ],
   "source": [
    "ratings_data = sql_print_data('ratings')\n",
    "ratings_data"
   ]
  },
  {
   "cell_type": "markdown",
   "id": "c807e65b",
   "metadata": {},
   "source": [
    "Vemos la quinta base de datos  `reviews`sobre la opinión de los libros:"
   ]
  },
  {
   "cell_type": "code",
   "execution_count": 10,
   "id": "7451a2a3",
   "metadata": {},
   "outputs": [
    {
     "data": {
      "text/html": [
       "<div>\n",
       "<style scoped>\n",
       "    .dataframe tbody tr th:only-of-type {\n",
       "        vertical-align: middle;\n",
       "    }\n",
       "\n",
       "    .dataframe tbody tr th {\n",
       "        vertical-align: top;\n",
       "    }\n",
       "\n",
       "    .dataframe thead th {\n",
       "        text-align: right;\n",
       "    }\n",
       "</style>\n",
       "<table border=\"1\" class=\"dataframe\">\n",
       "  <thead>\n",
       "    <tr style=\"text-align: right;\">\n",
       "      <th></th>\n",
       "      <th>review_id</th>\n",
       "      <th>book_id</th>\n",
       "      <th>username</th>\n",
       "      <th>text</th>\n",
       "    </tr>\n",
       "  </thead>\n",
       "  <tbody>\n",
       "    <tr>\n",
       "      <th>0</th>\n",
       "      <td>1</td>\n",
       "      <td>1</td>\n",
       "      <td>brandtandrea</td>\n",
       "      <td>Mention society tell send professor analysis. ...</td>\n",
       "    </tr>\n",
       "    <tr>\n",
       "      <th>1</th>\n",
       "      <td>2</td>\n",
       "      <td>1</td>\n",
       "      <td>ryanfranco</td>\n",
       "      <td>Foot glass pretty audience hit themselves. Amo...</td>\n",
       "    </tr>\n",
       "    <tr>\n",
       "      <th>2</th>\n",
       "      <td>3</td>\n",
       "      <td>2</td>\n",
       "      <td>lorichen</td>\n",
       "      <td>Listen treat keep worry. Miss husband tax but ...</td>\n",
       "    </tr>\n",
       "    <tr>\n",
       "      <th>3</th>\n",
       "      <td>4</td>\n",
       "      <td>3</td>\n",
       "      <td>johnsonamanda</td>\n",
       "      <td>Finally month interesting blue could nature cu...</td>\n",
       "    </tr>\n",
       "    <tr>\n",
       "      <th>4</th>\n",
       "      <td>5</td>\n",
       "      <td>3</td>\n",
       "      <td>scotttamara</td>\n",
       "      <td>Nation purpose heavy give wait song will. List...</td>\n",
       "    </tr>\n",
       "  </tbody>\n",
       "</table>\n",
       "</div>"
      ],
      "text/plain": [
       "   review_id  book_id       username  \\\n",
       "0          1        1   brandtandrea   \n",
       "1          2        1     ryanfranco   \n",
       "2          3        2       lorichen   \n",
       "3          4        3  johnsonamanda   \n",
       "4          5        3    scotttamara   \n",
       "\n",
       "                                                text  \n",
       "0  Mention society tell send professor analysis. ...  \n",
       "1  Foot glass pretty audience hit themselves. Amo...  \n",
       "2  Listen treat keep worry. Miss husband tax but ...  \n",
       "3  Finally month interesting blue could nature cu...  \n",
       "4  Nation purpose heavy give wait song will. List...  "
      ]
     },
     "execution_count": 10,
     "metadata": {},
     "output_type": "execute_result"
    }
   ],
   "source": [
    "reviews_data = sql_print_data('reviews')\n",
    "reviews_data"
   ]
  },
  {
   "cell_type": "markdown",
   "id": "36643d38",
   "metadata": {},
   "source": [
    "[Volver al Índice](#back)"
   ]
  },
  {
   "cell_type": "markdown",
   "id": "5b0d4e43",
   "metadata": {},
   "source": [
    "## Consulta SQL para cada una de las tareas<a name='step10'></a>"
   ]
  },
  {
   "cell_type": "code",
   "execution_count": 11,
   "id": "fb4074fd",
   "metadata": {},
   "outputs": [],
   "source": [
    "def results_data(query_name):\n",
    "    results = pd.io.sql.read_sql(query_name, con = engine)\n",
    "    return results"
   ]
  },
  {
   "cell_type": "markdown",
   "id": "703953e3",
   "metadata": {},
   "source": [
    "### Encuentra el número de libros publicados después del 1 de enero de 2000."
   ]
  },
  {
   "cell_type": "code",
   "execution_count": 12,
   "id": "1909139f",
   "metadata": {},
   "outputs": [
    {
     "data": {
      "text/html": [
       "<div>\n",
       "<style scoped>\n",
       "    .dataframe tbody tr th:only-of-type {\n",
       "        vertical-align: middle;\n",
       "    }\n",
       "\n",
       "    .dataframe tbody tr th {\n",
       "        vertical-align: top;\n",
       "    }\n",
       "\n",
       "    .dataframe thead th {\n",
       "        text-align: right;\n",
       "    }\n",
       "</style>\n",
       "<table border=\"1\" class=\"dataframe\">\n",
       "  <thead>\n",
       "    <tr style=\"text-align: right;\">\n",
       "      <th></th>\n",
       "      <th>num_books_released</th>\n",
       "    </tr>\n",
       "  </thead>\n",
       "  <tbody>\n",
       "    <tr>\n",
       "      <th>0</th>\n",
       "      <td>819</td>\n",
       "    </tr>\n",
       "  </tbody>\n",
       "</table>\n",
       "</div>"
      ],
      "text/plain": [
       "   num_books_released\n",
       "0                 819"
      ]
     },
     "execution_count": 12,
     "metadata": {},
     "output_type": "execute_result"
    }
   ],
   "source": [
    "num_books = '''\n",
    "SELECT \n",
    "    COUNT(*) AS num_books_released\n",
    "FROM \n",
    "    books\n",
    "WHERE \n",
    "    publication_date > '2000-01-01';\n",
    "'''\n",
    "num_books_result = results_data(num_books)\n",
    "num_books_result"
   ]
  },
  {
   "cell_type": "markdown",
   "id": "8a8f5a80",
   "metadata": {},
   "source": [
    "Como resultado encontramos 819 libros publicados después del 1 de enero de 2000."
   ]
  },
  {
   "cell_type": "markdown",
   "id": "ce37cdda",
   "metadata": {},
   "source": [
    "### Encuentra el número de reseñas de usuarios y la calificación promedio para cada libro."
   ]
  },
  {
   "cell_type": "code",
   "execution_count": 13,
   "id": "9dab5d2a",
   "metadata": {},
   "outputs": [
    {
     "data": {
      "text/html": [
       "<div>\n",
       "<style scoped>\n",
       "    .dataframe tbody tr th:only-of-type {\n",
       "        vertical-align: middle;\n",
       "    }\n",
       "\n",
       "    .dataframe tbody tr th {\n",
       "        vertical-align: top;\n",
       "    }\n",
       "\n",
       "    .dataframe thead th {\n",
       "        text-align: right;\n",
       "    }\n",
       "</style>\n",
       "<table border=\"1\" class=\"dataframe\">\n",
       "  <thead>\n",
       "    <tr style=\"text-align: right;\">\n",
       "      <th></th>\n",
       "      <th>book_id</th>\n",
       "      <th>title</th>\n",
       "      <th>num_reviews</th>\n",
       "      <th>avg_rating</th>\n",
       "    </tr>\n",
       "  </thead>\n",
       "  <tbody>\n",
       "    <tr>\n",
       "      <th>0</th>\n",
       "      <td>948</td>\n",
       "      <td>Twilight (Twilight  #1)</td>\n",
       "      <td>1120</td>\n",
       "      <td>3.66</td>\n",
       "    </tr>\n",
       "    <tr>\n",
       "      <th>1</th>\n",
       "      <td>750</td>\n",
       "      <td>The Hobbit  or There and Back Again</td>\n",
       "      <td>528</td>\n",
       "      <td>4.13</td>\n",
       "    </tr>\n",
       "    <tr>\n",
       "      <th>2</th>\n",
       "      <td>673</td>\n",
       "      <td>The Catcher in the Rye</td>\n",
       "      <td>516</td>\n",
       "      <td>3.83</td>\n",
       "    </tr>\n",
       "    <tr>\n",
       "      <th>3</th>\n",
       "      <td>302</td>\n",
       "      <td>Harry Potter and the Prisoner of Azkaban (Harr...</td>\n",
       "      <td>492</td>\n",
       "      <td>4.41</td>\n",
       "    </tr>\n",
       "    <tr>\n",
       "      <th>4</th>\n",
       "      <td>299</td>\n",
       "      <td>Harry Potter and the Chamber of Secrets (Harry...</td>\n",
       "      <td>480</td>\n",
       "      <td>4.29</td>\n",
       "    </tr>\n",
       "  </tbody>\n",
       "</table>\n",
       "</div>"
      ],
      "text/plain": [
       "   book_id                                              title  num_reviews  \\\n",
       "0      948                            Twilight (Twilight  #1)         1120   \n",
       "1      750                The Hobbit  or There and Back Again          528   \n",
       "2      673                             The Catcher in the Rye          516   \n",
       "3      302  Harry Potter and the Prisoner of Azkaban (Harr...          492   \n",
       "4      299  Harry Potter and the Chamber of Secrets (Harry...          480   \n",
       "\n",
       "   avg_rating  \n",
       "0        3.66  \n",
       "1        4.13  \n",
       "2        3.83  \n",
       "3        4.41  \n",
       "4        4.29  "
      ]
     },
     "execution_count": 13,
     "metadata": {},
     "output_type": "execute_result"
    }
   ],
   "source": [
    "num_reviews_avg_rating = '''\n",
    "SELECT \n",
    "    books.book_id,\n",
    "    books.title,\n",
    "    COUNT(reviews.review_id) AS num_reviews,\n",
    "    ROUND(AVG(ratings.rating), 2) AS avg_rating\n",
    "FROM \n",
    "    books\n",
    "    LEFT JOIN reviews ON books.book_id = reviews.book_id\n",
    "    LEFT JOIN ratings ON books.book_id = ratings.book_id\n",
    "GROUP BY \n",
    "    books.book_id\n",
    "ORDER BY \n",
    "    num_reviews DESC;\n",
    "'''\n",
    "num_reviews_avg_rating_results = results_data(num_reviews_avg_rating)\n",
    "num_reviews_avg_rating_results.head()"
   ]
  },
  {
   "cell_type": "markdown",
   "id": "bcc4887d",
   "metadata": {},
   "source": [
    "Entonces al combinar las base de datos de `books` y las otras dos base de datos `reviews` y `rating`, pudimos crear una tabla con el número de reseñas y la calificación promedio de cada libro.\n",
    "\n",
    "Los primeros libros con más reviews son Twilight y The Hobbit  que son ficción y muy conocidos, su calificación de ambos no es tan buena. Libros con más reviews y mejor califación son dos de Harry Potter de lectura de fantasía. "
   ]
  },
  {
   "cell_type": "markdown",
   "id": "9b9c2dfd",
   "metadata": {},
   "source": [
    "### Identifica la editorial que ha publicado el mayor número de libros con más de 50 páginas (esto te ayudará a excluir folletos y publicaciones similares de tu análisis)."
   ]
  },
  {
   "cell_type": "code",
   "execution_count": 14,
   "id": "482567db",
   "metadata": {},
   "outputs": [
    {
     "data": {
      "text/html": [
       "<div>\n",
       "<style scoped>\n",
       "    .dataframe tbody tr th:only-of-type {\n",
       "        vertical-align: middle;\n",
       "    }\n",
       "\n",
       "    .dataframe tbody tr th {\n",
       "        vertical-align: top;\n",
       "    }\n",
       "\n",
       "    .dataframe thead th {\n",
       "        text-align: right;\n",
       "    }\n",
       "</style>\n",
       "<table border=\"1\" class=\"dataframe\">\n",
       "  <thead>\n",
       "    <tr style=\"text-align: right;\">\n",
       "      <th></th>\n",
       "      <th>publisher</th>\n",
       "      <th>books_published</th>\n",
       "    </tr>\n",
       "  </thead>\n",
       "  <tbody>\n",
       "    <tr>\n",
       "      <th>0</th>\n",
       "      <td>Penguin Books</td>\n",
       "      <td>42</td>\n",
       "    </tr>\n",
       "    <tr>\n",
       "      <th>1</th>\n",
       "      <td>Vintage</td>\n",
       "      <td>31</td>\n",
       "    </tr>\n",
       "    <tr>\n",
       "      <th>2</th>\n",
       "      <td>Grand Central Publishing</td>\n",
       "      <td>25</td>\n",
       "    </tr>\n",
       "    <tr>\n",
       "      <th>3</th>\n",
       "      <td>Penguin Classics</td>\n",
       "      <td>24</td>\n",
       "    </tr>\n",
       "    <tr>\n",
       "      <th>4</th>\n",
       "      <td>Bantam</td>\n",
       "      <td>19</td>\n",
       "    </tr>\n",
       "  </tbody>\n",
       "</table>\n",
       "</div>"
      ],
      "text/plain": [
       "                  publisher  books_published\n",
       "0             Penguin Books               42\n",
       "1                   Vintage               31\n",
       "2  Grand Central Publishing               25\n",
       "3          Penguin Classics               24\n",
       "4                    Bantam               19"
      ]
     },
     "execution_count": 14,
     "metadata": {},
     "output_type": "execute_result"
    }
   ],
   "source": [
    "most_published_editorial = '''\n",
    "SELECT publishers.publisher,\n",
    "    COUNT(DISTINCT(books.book_id)) AS books_published\n",
    "FROM publishers\n",
    "    INNER JOIN books ON books.publisher_id = publishers.publisher_id\n",
    "WHERE \n",
    "    books.num_pages > 50\n",
    "GROUP BY \n",
    "    publisher\n",
    "ORDER BY \n",
    "    books_published DESC\n",
    "'''\n",
    "most_published_editorial_results = results_data(most_published_editorial)\n",
    "most_published_editorial_results.head()"
   ]
  },
  {
   "cell_type": "markdown",
   "id": "d5b5a2d3",
   "metadata": {},
   "source": [
    "Las editoriales con más libros con más 50 páginas son `Penguin Books` con 42 libros y `Vintage` con 31 libros. Después encontramos a `Grand Central Publishing` y `Penguin Classics`.\n",
    "\n"
   ]
  },
  {
   "cell_type": "markdown",
   "id": "41c6eb69",
   "metadata": {},
   "source": [
    "### Identifica al autor que tiene la más alta calificación promedio del libro: mira solo los libros con al menos 50 calificaciones."
   ]
  },
  {
   "cell_type": "code",
   "execution_count": 15,
   "id": "9aa6f8ae",
   "metadata": {},
   "outputs": [
    {
     "data": {
      "text/html": [
       "<div>\n",
       "<style scoped>\n",
       "    .dataframe tbody tr th:only-of-type {\n",
       "        vertical-align: middle;\n",
       "    }\n",
       "\n",
       "    .dataframe tbody tr th {\n",
       "        vertical-align: top;\n",
       "    }\n",
       "\n",
       "    .dataframe thead th {\n",
       "        text-align: right;\n",
       "    }\n",
       "</style>\n",
       "<table border=\"1\" class=\"dataframe\">\n",
       "  <thead>\n",
       "    <tr style=\"text-align: right;\">\n",
       "      <th></th>\n",
       "      <th>title</th>\n",
       "      <th>author</th>\n",
       "      <th>average_rating</th>\n",
       "    </tr>\n",
       "  </thead>\n",
       "  <tbody>\n",
       "    <tr>\n",
       "      <th>0</th>\n",
       "      <td>Harry Potter and the Prisoner of Azkaban (Harr...</td>\n",
       "      <td>J.K. Rowling/Mary GrandPré</td>\n",
       "      <td>4.414634</td>\n",
       "    </tr>\n",
       "    <tr>\n",
       "      <th>1</th>\n",
       "      <td>The Fellowship of the Ring (The Lord of the Ri...</td>\n",
       "      <td>J.R.R. Tolkien</td>\n",
       "      <td>4.391892</td>\n",
       "    </tr>\n",
       "    <tr>\n",
       "      <th>2</th>\n",
       "      <td>Harry Potter and the Chamber of Secrets (Harry...</td>\n",
       "      <td>J.K. Rowling/Mary GrandPré</td>\n",
       "      <td>4.287500</td>\n",
       "    </tr>\n",
       "    <tr>\n",
       "      <th>3</th>\n",
       "      <td>The Book Thief</td>\n",
       "      <td>Markus Zusak/Cao Xuân Việt Khương</td>\n",
       "      <td>4.264151</td>\n",
       "    </tr>\n",
       "    <tr>\n",
       "      <th>4</th>\n",
       "      <td>Harry Potter and the Half-Blood Prince (Harry ...</td>\n",
       "      <td>J.K. Rowling/Mary GrandPré</td>\n",
       "      <td>4.246575</td>\n",
       "    </tr>\n",
       "    <tr>\n",
       "      <th>5</th>\n",
       "      <td>Little Women</td>\n",
       "      <td>Louisa May Alcott</td>\n",
       "      <td>4.192308</td>\n",
       "    </tr>\n",
       "    <tr>\n",
       "      <th>6</th>\n",
       "      <td>Harry Potter and the Order of the Phoenix (Har...</td>\n",
       "      <td>J.K. Rowling/Mary GrandPré</td>\n",
       "      <td>4.186667</td>\n",
       "    </tr>\n",
       "    <tr>\n",
       "      <th>7</th>\n",
       "      <td>The Hobbit  or There and Back Again</td>\n",
       "      <td>J.R.R. Tolkien</td>\n",
       "      <td>4.125000</td>\n",
       "    </tr>\n",
       "    <tr>\n",
       "      <th>8</th>\n",
       "      <td>Memoirs of a Geisha</td>\n",
       "      <td>Arthur Golden</td>\n",
       "      <td>4.107143</td>\n",
       "    </tr>\n",
       "    <tr>\n",
       "      <th>9</th>\n",
       "      <td>The Lightning Thief (Percy Jackson and the Oly...</td>\n",
       "      <td>Rick Riordan</td>\n",
       "      <td>4.080645</td>\n",
       "    </tr>\n",
       "    <tr>\n",
       "      <th>10</th>\n",
       "      <td>Lord of the Flies</td>\n",
       "      <td>William Golding</td>\n",
       "      <td>3.901408</td>\n",
       "    </tr>\n",
       "    <tr>\n",
       "      <th>11</th>\n",
       "      <td>The Da Vinci Code (Robert Langdon  #2)</td>\n",
       "      <td>Dan Brown</td>\n",
       "      <td>3.830508</td>\n",
       "    </tr>\n",
       "    <tr>\n",
       "      <th>12</th>\n",
       "      <td>The Catcher in the Rye</td>\n",
       "      <td>J.D. Salinger</td>\n",
       "      <td>3.825581</td>\n",
       "    </tr>\n",
       "    <tr>\n",
       "      <th>13</th>\n",
       "      <td>The Alchemist</td>\n",
       "      <td>Paulo Coelho/Alan R. Clarke/Özdemir İnce</td>\n",
       "      <td>3.789474</td>\n",
       "    </tr>\n",
       "    <tr>\n",
       "      <th>14</th>\n",
       "      <td>Romeo and Juliet</td>\n",
       "      <td>William Shakespeare/Paul Werstine/Barbara A. M...</td>\n",
       "      <td>3.787879</td>\n",
       "    </tr>\n",
       "    <tr>\n",
       "      <th>15</th>\n",
       "      <td>The Giver (The Giver  #1)</td>\n",
       "      <td>Lois Lowry</td>\n",
       "      <td>3.750000</td>\n",
       "    </tr>\n",
       "    <tr>\n",
       "      <th>16</th>\n",
       "      <td>Animal Farm</td>\n",
       "      <td>George Orwell/Boris Grabnar/Peter Škerl</td>\n",
       "      <td>3.729730</td>\n",
       "    </tr>\n",
       "    <tr>\n",
       "      <th>17</th>\n",
       "      <td>Angels &amp; Demons (Robert Langdon  #1)</td>\n",
       "      <td>Dan Brown</td>\n",
       "      <td>3.678571</td>\n",
       "    </tr>\n",
       "    <tr>\n",
       "      <th>18</th>\n",
       "      <td>Twilight (Twilight  #1)</td>\n",
       "      <td>Stephenie Meyer</td>\n",
       "      <td>3.662500</td>\n",
       "    </tr>\n",
       "    <tr>\n",
       "      <th>19</th>\n",
       "      <td>Of Mice and Men</td>\n",
       "      <td>John Steinbeck</td>\n",
       "      <td>3.622951</td>\n",
       "    </tr>\n",
       "  </tbody>\n",
       "</table>\n",
       "</div>"
      ],
      "text/plain": [
       "                                                title  \\\n",
       "0   Harry Potter and the Prisoner of Azkaban (Harr...   \n",
       "1   The Fellowship of the Ring (The Lord of the Ri...   \n",
       "2   Harry Potter and the Chamber of Secrets (Harry...   \n",
       "3                                      The Book Thief   \n",
       "4   Harry Potter and the Half-Blood Prince (Harry ...   \n",
       "5                                        Little Women   \n",
       "6   Harry Potter and the Order of the Phoenix (Har...   \n",
       "7                 The Hobbit  or There and Back Again   \n",
       "8                                 Memoirs of a Geisha   \n",
       "9   The Lightning Thief (Percy Jackson and the Oly...   \n",
       "10                                  Lord of the Flies   \n",
       "11             The Da Vinci Code (Robert Langdon  #2)   \n",
       "12                             The Catcher in the Rye   \n",
       "13                                      The Alchemist   \n",
       "14                                   Romeo and Juliet   \n",
       "15                          The Giver (The Giver  #1)   \n",
       "16                                        Animal Farm   \n",
       "17               Angels & Demons (Robert Langdon  #1)   \n",
       "18                            Twilight (Twilight  #1)   \n",
       "19                                    Of Mice and Men   \n",
       "\n",
       "                                               author  average_rating  \n",
       "0                          J.K. Rowling/Mary GrandPré        4.414634  \n",
       "1                                      J.R.R. Tolkien        4.391892  \n",
       "2                          J.K. Rowling/Mary GrandPré        4.287500  \n",
       "3                   Markus Zusak/Cao Xuân Việt Khương        4.264151  \n",
       "4                          J.K. Rowling/Mary GrandPré        4.246575  \n",
       "5                                   Louisa May Alcott        4.192308  \n",
       "6                          J.K. Rowling/Mary GrandPré        4.186667  \n",
       "7                                      J.R.R. Tolkien        4.125000  \n",
       "8                                       Arthur Golden        4.107143  \n",
       "9                                        Rick Riordan        4.080645  \n",
       "10                                    William Golding        3.901408  \n",
       "11                                          Dan Brown        3.830508  \n",
       "12                                      J.D. Salinger        3.825581  \n",
       "13           Paulo Coelho/Alan R. Clarke/Özdemir İnce        3.789474  \n",
       "14  William Shakespeare/Paul Werstine/Barbara A. M...        3.787879  \n",
       "15                                         Lois Lowry        3.750000  \n",
       "16            George Orwell/Boris Grabnar/Peter Škerl        3.729730  \n",
       "17                                          Dan Brown        3.678571  \n",
       "18                                    Stephenie Meyer        3.662500  \n",
       "19                                     John Steinbeck        3.622951  "
      ]
     },
     "execution_count": 15,
     "metadata": {},
     "output_type": "execute_result"
    }
   ],
   "source": [
    "highest_book = '''\n",
    "SELECT \n",
    "    title, \n",
    "    author, \n",
    "    AVG(rating) AS average_rating\n",
    "FROM\n",
    "    (SELECT \n",
    "    *\n",
    "    FROM \n",
    "        books\n",
    "        INNER JOIN authors on authors.author_id = books.author_id\n",
    "        INNER JOIN ratings on ratings.book_id = books.book_id) AS book_authors\n",
    "GROUP BY \n",
    "    author,\n",
    "    title\n",
    "HAVING COUNT(rating) > 50\n",
    "ORDER BY average_rating DESC\n",
    "'''\n",
    "highest_book_results = results_data(highest_book)\n",
    "highest_book_results"
   ]
  },
  {
   "cell_type": "markdown",
   "id": "4c54e962",
   "metadata": {},
   "source": [
    "En esta consulta combinamos varias tablas para poder obtener los primeros autores de lirbos que mínimo tengan 50 calificaciones, y descubrimos que tenemos en primer lugar el autor `J.K. Rowling/Mary GrandPré` de `Harry Potter`, en segundo lugar tenemos `J.R.R. Tolkien` de la serie de Señor de los Anillos. Si vemos los primeros tenemos la colección de Harry Potter y Señor de los Anillos y algunas novelas conocidas.\n"
   ]
  },
  {
   "cell_type": "markdown",
   "id": "ea2a827d",
   "metadata": {},
   "source": [
    "### Encuentra el número promedio de reseñas de texto entre los usuarios que calificaron más de 50 libros."
   ]
  },
  {
   "cell_type": "code",
   "execution_count": 16,
   "id": "6ebcc6f3",
   "metadata": {},
   "outputs": [
    {
     "data": {
      "text/html": [
       "<div>\n",
       "<style scoped>\n",
       "    .dataframe tbody tr th:only-of-type {\n",
       "        vertical-align: middle;\n",
       "    }\n",
       "\n",
       "    .dataframe tbody tr th {\n",
       "        vertical-align: top;\n",
       "    }\n",
       "\n",
       "    .dataframe thead th {\n",
       "        text-align: right;\n",
       "    }\n",
       "</style>\n",
       "<table border=\"1\" class=\"dataframe\">\n",
       "  <thead>\n",
       "    <tr style=\"text-align: right;\">\n",
       "      <th></th>\n",
       "      <th>avg_user_reviews</th>\n",
       "    </tr>\n",
       "  </thead>\n",
       "  <tbody>\n",
       "    <tr>\n",
       "      <th>0</th>\n",
       "      <td>24.33</td>\n",
       "    </tr>\n",
       "  </tbody>\n",
       "</table>\n",
       "</div>"
      ],
      "text/plain": [
       "   avg_user_reviews\n",
       "0             24.33"
      ]
     },
     "execution_count": 16,
     "metadata": {},
     "output_type": "execute_result"
    }
   ],
   "source": [
    "avg_reviews = '''\n",
    "WITH reviews_50 (username) AS (\n",
    "    SELECT \n",
    "        ratings.username\n",
    "    FROM\n",
    "        ratings\n",
    "    GROUP BY \n",
    "        username\n",
    "    HAVING COUNT(rating_id) > 50\n",
    "    ), \n",
    "    review_data AS (\n",
    "        SELECT\n",
    "            DISTINCT username,\n",
    "            COUNT(review_id) OVER (partition by username) AS reviews_count\n",
    "        FROM reviews_50\n",
    "            INNER JOIN reviews USING(username)\n",
    "    )\n",
    "SELECT \n",
    "    ROUND(AVG(reviews_count), 2) AS avg_user_reviews\n",
    "FROM \n",
    "    review_data\n",
    "'''\n",
    "avg_reviews_results = results_data(avg_reviews)\n",
    "avg_reviews_results"
   ]
  },
  {
   "cell_type": "markdown",
   "id": "fbf516d3",
   "metadata": {},
   "source": [
    "Para obtener el resultado, se crearon subtablas y de está manera se obtuvó un promedio de 24.33 de reseñas de texto entre los usuarios que calificaron más de 50 libros."
   ]
  },
  {
   "cell_type": "markdown",
   "id": "72de9a5c",
   "metadata": {},
   "source": [
    "## Conclusiones<a name='step11'></a>"
   ]
  },
  {
   "cell_type": "markdown",
   "id": "b605fb47",
   "metadata": {},
   "source": [
    "Con los resultados obtenidos podemos crear una propuesta de valor que se enfoque en:\n",
    "\n",
    "- los libros que cuenten con más reseñas y calificación, como por ejemplo libros de fantasía y novelas muy populares como ejemplo Harry Potter.\n",
    "- los autores populares con buen promedio de rating, ejemplo J.K. Rowling/Mary GrandPré o J.R.R. Tolkien.\n",
    "- los editoriales que hayan publicado más libros con más de 50 páginas como Penguin Books y Vintage.\n",
    "\n",
    "Como podemos ver es un enfoque a populares libros, autores y editores que serán un éxito seguro."
   ]
  },
  {
   "cell_type": "markdown",
   "id": "14e6300a",
   "metadata": {},
   "source": [
    "[Volver al Índice](#back)"
   ]
  }
 ],
 "metadata": {
  "kernelspec": {
   "display_name": "Python 3 (ipykernel)",
   "language": "python",
   "name": "python3"
  },
  "language_info": {
   "codemirror_mode": {
    "name": "ipython",
    "version": 3
   },
   "file_extension": ".py",
   "mimetype": "text/x-python",
   "name": "python",
   "nbconvert_exporter": "python",
   "pygments_lexer": "ipython3",
   "version": "3.11.5"
  },
  "toc": {
   "base_numbering": 1,
   "nav_menu": {},
   "number_sections": true,
   "sideBar": true,
   "skip_h1_title": true,
   "title_cell": "Table of Contents",
   "title_sidebar": "Contents",
   "toc_cell": false,
   "toc_position": {},
   "toc_section_display": true,
   "toc_window_display": false
  }
 },
 "nbformat": 4,
 "nbformat_minor": 5
}
